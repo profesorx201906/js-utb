{
 "cells": [
  {
   "cell_type": "code",
   "execution_count": 10,
   "id": "2f91e47b",
   "metadata": {},
   "outputs": [
    {
     "name": "stdout",
     "output_type": "stream",
     "text": [
      "\n",
      "Archivo CSV\n",
      "      imc  glucosa\n",
      "0    33.6      148\n",
      "1    26.6       85\n",
      "2    23.3      183\n",
      "3    28.1       89\n",
      "4    43.1      137\n",
      "..    ...      ...\n",
      "763  32.9      101\n",
      "764  36.8      122\n",
      "765  26.2      121\n",
      "766  30.1      126\n",
      "767  30.4       93\n",
      "\n",
      "[768 rows x 2 columns]\n"
     ]
    }
   ],
   "source": [
    "#Muestreo aleatorio Simple\n",
    "import numpy as np\n",
    "import pandas as pd\n",
    "\n",
    "#Leer archivo excel e imprimirlo\n",
    "df = pd.read_csv('C:\\\\Otros\\\\UTB\\\\TalentoTech\\\\AnalisisDatos\\\\Material\\\\Semana_5\\\\Ejercicios\\\\diabetes.csv')\n",
    "print(\"\\nArchivo CSV\")\n",
    "print(df) \n"
   ]
  },
  {
   "cell_type": "code",
   "execution_count": 11,
   "id": "d9040989",
   "metadata": {},
   "outputs": [
    {
     "name": "stdout",
     "output_type": "stream",
     "text": [
      "\n",
      "Muestreo de Renglones (10%)\n",
      "      imc  glucosa\n",
      "557  27.8      110\n",
      "560  33.8      125\n",
      "338  34.2      152\n",
      "490  36.8       83\n",
      "643  28.0       90\n",
      "..    ...      ...\n",
      "454  37.8      100\n",
      "569  34.3      121\n",
      "430  22.2       99\n",
      "395  27.7      127\n",
      "489  26.1      194\n",
      "\n",
      "[77 rows x 2 columns]\n"
     ]
    }
   ],
   "source": [
    "# Método: Muestreo de Renglones\n",
    "df_muestra=df.sample(frac=0.10)\n",
    "print(\"\\nMuestreo de Renglones (10%)\")\n",
    "print(df_muestra) "
   ]
  },
  {
   "cell_type": "code",
   "execution_count": 12,
   "id": "386f491d",
   "metadata": {},
   "outputs": [
    {
     "name": "stdout",
     "output_type": "stream",
     "text": [
      "\n",
      "Muestreo de elementos por columna (10 elementos)\n",
      "[120  88 105 147 168 106 142 138 174 146]\n"
     ]
    }
   ],
   "source": [
    "# Muestreo de elemntos por columnas (Numpy)\n",
    "df_muestra=np.random.choice(df[\"glucosa\"],10)\n",
    "print(\"\\nMuestreo de elementos por columna (10 elementos)\")\n",
    "print(df_muestra) \n",
    "\n"
   ]
  },
  {
   "cell_type": "code",
   "execution_count": 13,
   "id": "53ddd44b",
   "metadata": {},
   "outputs": [
    {
     "name": "stdout",
     "output_type": "stream",
     "text": [
      "\n",
      " Método Mínimos y Máximos aplicado al salario y Número vehículos\n",
      "\n",
      "     Salario    NroVeh\n",
      "0  0.051508  0.333333\n",
      "1  0.070352  0.666667\n",
      "2  0.043970  0.333333\n",
      "3  1.000000  1.000000\n",
      "4  0.057789  0.666667\n",
      "5  0.000000  0.000000\n"
     ]
    }
   ],
   "source": []
  },
  {
   "cell_type": "code",
   "execution_count": 18,
   "id": "d36fc3b0",
   "metadata": {},
   "outputs": [
    {
     "name": "stdout",
     "output_type": "stream",
     "text": [
      "\n",
      " Método z-score aplicado al salario y Número vehículos\n",
      "\n",
      "     Salario    NroVeh\n",
      "0 -0.390117 -0.476731\n",
      "1 -0.341888  0.476731\n",
      "2 -0.409408 -0.476731\n",
      "3  2.037395  1.430194\n",
      "4 -0.374040  0.476731\n",
      "5 -0.521942 -1.430194\n"
     ]
    }
   ],
   "source": []
  },
  {
   "cell_type": "code",
   "execution_count": 20,
   "id": "64f0bbc3",
   "metadata": {},
   "outputs": [
    {
     "data": {
      "text/plain": [
       "0   -0.476731\n",
       "1    0.476731\n",
       "2   -0.476731\n",
       "3    1.430194\n",
       "4    0.476731\n",
       "5   -1.430194\n",
       "Name: NroVeh, dtype: float64"
      ]
     },
     "execution_count": 20,
     "metadata": {},
     "output_type": "execute_result"
    }
   ],
   "source": []
  },
  {
   "cell_type": "code",
   "execution_count": null,
   "id": "6be10683",
   "metadata": {},
   "outputs": [],
   "source": []
  }
 ],
 "metadata": {
  "kernelspec": {
   "display_name": "Python 3 (ipykernel)",
   "language": "python",
   "name": "python3"
  },
  "language_info": {
   "codemirror_mode": {
    "name": "ipython",
    "version": 3
   },
   "file_extension": ".py",
   "mimetype": "text/x-python",
   "name": "python",
   "nbconvert_exporter": "python",
   "pygments_lexer": "ipython3",
   "version": "3.11.5"
  }
 },
 "nbformat": 4,
 "nbformat_minor": 5
}
