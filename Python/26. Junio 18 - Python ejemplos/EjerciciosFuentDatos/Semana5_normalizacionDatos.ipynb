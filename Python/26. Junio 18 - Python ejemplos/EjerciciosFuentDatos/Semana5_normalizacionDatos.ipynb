{
 "cells": [
  {
   "cell_type": "code",
   "execution_count": 9,
   "id": "2f91e47b",
   "metadata": {},
   "outputs": [
    {
     "name": "stdout",
     "output_type": "stream",
     "text": [
      "\n",
      "Archivo EXCEL\n",
      "            Nombre   Salario  NroVeh\n",
      "0       Luisa Lane   4500000       1\n",
      "1     Maria Medina   6000000       2\n",
      "2  Sergio Castillo   3900000       1\n",
      "3      Pedro López  80000000       3\n",
      "4   Catalina Gómez   5000000       2\n"
     ]
    }
   ],
   "source": [
    "#Escalado - Normalización - Estándarización\n",
    "import pandas as pd\n",
    "\n",
    "#Leer archivo excel e impirmir las primeras 5 filas\n",
    "df = pd.read_excel('C:\\\\Otros\\\\UTB\\\\TalentoTech\\\\AnalisisDatos\\\\Material\\\\Semana_5\\\\Ejercicios\\\\DataNormalizacion.xlsx', sheet_name='Datos')\n",
    "print(\"\\nArchivo EXCEL\")\n",
    "print(df.head()) #los primeros 5 registros\n"
   ]
  },
  {
   "cell_type": "code",
   "execution_count": 10,
   "id": "d9040989",
   "metadata": {},
   "outputs": [
    {
     "name": "stdout",
     "output_type": "stream",
     "text": [
      "\n",
      " Variables de interés\n",
      "\n",
      "     Salario  NroVeh\n",
      "0   4500000       1\n",
      "1   6000000       2\n",
      "2   3900000       1\n",
      "3  80000000       3\n",
      "4   5000000       2\n",
      "5    400000       0\n",
      "\n",
      " Estadística descriptiva\n",
      "\n",
      "             Salario    NroVeh\n",
      "count  6.000000e+00  6.000000\n",
      "mean   1.663333e+07  1.500000\n",
      "std    3.110181e+07  1.048809\n",
      "min    4.000000e+05  0.000000\n",
      "25%    4.050000e+06  1.000000\n",
      "50%    4.750000e+06  1.500000\n",
      "75%    5.750000e+06  2.000000\n",
      "max    8.000000e+07  3.000000\n"
     ]
    }
   ],
   "source": [
    "# Variable de Interés - Estadística Descriptiva\n",
    "print(\"\\n Variables de interés\")\n",
    "print(\"\\n\",df[[\"Salario\",\"NroVeh\"]]) # Mostrar llas variables de interés (Numéricas)\n",
    "\n",
    "print(\"\\n Estadística descriptiva\")\n",
    "print(\"\\n\",df[[\"Salario\",\"NroVeh\"]].describe()) # Mostrar Estadística Descriptiva"
   ]
  },
  {
   "cell_type": "code",
   "execution_count": 12,
   "id": "386f491d",
   "metadata": {},
   "outputs": [
    {
     "name": "stdout",
     "output_type": "stream",
     "text": [
      "\n",
      " Método escalado simple aplicado al salario y Número vehículos\n",
      "\n",
      "    Salario    NroVeh\n",
      "0  0.05625  0.333333\n",
      "1  0.07500  0.666667\n",
      "2  0.04875  0.333333\n",
      "3  1.00000  1.000000\n",
      "4  0.06250  0.666667\n",
      "5  0.00500  0.000000\n"
     ]
    }
   ],
   "source": [
    "# Método Escalado simple\n",
    "print(\"\\n Método escalado simple aplicado al salario y Número vehículos\")\n",
    "df[\"Salario\"]=df[\"Salario\"]/df[\"Salario\"].max()\n",
    "df[\"NroVeh\"]=df[\"NroVeh\"]/df[\"NroVeh\"].max()\n",
    "print(\"\\n\",df[[\"Salario\",\"NroVeh\"]]) # Mostrar llas variables de interés (Numéricas)"
   ]
  },
  {
   "cell_type": "code",
   "execution_count": 7,
   "id": "1d1f181f",
   "metadata": {},
   "outputs": [
    {
     "name": "stdout",
     "output_type": "stream",
     "text": [
      "\n",
      " Variables de interés\n",
      "\n",
      "     Salario  NroVeh\n",
      "0   4500000       1\n",
      "1   6000000       2\n",
      "2   3900000       1\n",
      "3  80000000       3\n",
      "4   5000000       2\n",
      "5    400000       0\n",
      "\n",
      " Estadística descriptiva\n",
      "\n",
      "             Salario    NroVeh\n",
      "count  6.000000e+00  6.000000\n",
      "mean   1.663333e+07  1.500000\n",
      "std    3.110181e+07  1.048809\n",
      "min    4.000000e+05  0.000000\n",
      "25%    4.050000e+06  1.000000\n",
      "50%    4.750000e+06  1.500000\n",
      "75%    5.750000e+06  2.000000\n",
      "max    8.000000e+07  3.000000\n",
      "\n",
      " Método escalado simple aplicado al salario y Número vehículos\n",
      "\n",
      "    Salario    NroVeh\n",
      "0  0.05625  0.333333\n",
      "1  0.07500  0.666667\n",
      "2  0.04875  0.333333\n",
      "3  1.00000  1.000000\n",
      "4  0.06250  0.666667\n",
      "5  0.00500  0.000000\n"
     ]
    }
   ],
   "source": []
  },
  {
   "cell_type": "code",
   "execution_count": 13,
   "id": "53ddd44b",
   "metadata": {},
   "outputs": [
    {
     "name": "stdout",
     "output_type": "stream",
     "text": [
      "\n",
      " Método Mínimos y Máximos aplicado al salario y Número vehículos\n",
      "\n",
      "     Salario    NroVeh\n",
      "0  0.051508  0.333333\n",
      "1  0.070352  0.666667\n",
      "2  0.043970  0.333333\n",
      "3  1.000000  1.000000\n",
      "4  0.057789  0.666667\n",
      "5  0.000000  0.000000\n"
     ]
    }
   ],
   "source": [
    "# Método Mínimo y Máximo\n",
    "print(\"\\n Método Mínimos y Máximos aplicado al salario y Número vehículos\")\n",
    "df[\"Salario\"]=(df[\"Salario\"]-df[\"Salario\"].min())/(df[\"Salario\"].max()-df[\"Salario\"].min())\n",
    "df[\"NroVeh\"]=(df[\"NroVeh\"]-df[\"NroVeh\"].min())/(df[\"NroVeh\"].max()-df[\"NroVeh\"].min())\n",
    "print(\"\\n\",df[[\"Salario\",\"NroVeh\"]]) # Mostrar llas variables de interés (Numéricas)"
   ]
  },
  {
   "cell_type": "code",
   "execution_count": 18,
   "id": "d36fc3b0",
   "metadata": {},
   "outputs": [
    {
     "name": "stdout",
     "output_type": "stream",
     "text": [
      "\n",
      " Método z-score aplicado al salario y Número vehículos\n",
      "\n",
      "     Salario    NroVeh\n",
      "0 -0.390117 -0.476731\n",
      "1 -0.341888  0.476731\n",
      "2 -0.409408 -0.476731\n",
      "3  2.037395  1.430194\n",
      "4 -0.374040  0.476731\n",
      "5 -0.521942 -1.430194\n"
     ]
    }
   ],
   "source": [
    "# Método z-score\n",
    "print(\"\\n Método z-score aplicado al salario y Número vehículos\")\n",
    "df[\"Salario\"]=(df[\"Salario\"]-df[\"Salario\"].mean())/df[\"Salario\"].std()\n",
    "df[\"NroVeh\"]=(df[\"NroVeh\"]-df[\"NroVeh\"].mean())/df[\"NroVeh\"].std()\n",
    "print(\"\\n\",df[[\"Salario\",\"NroVeh\"]]) # Mostrar llas variables de interés (Numéricas)"
   ]
  },
  {
   "cell_type": "code",
   "execution_count": 20,
   "id": "64f0bbc3",
   "metadata": {},
   "outputs": [
    {
     "data": {
      "text/plain": [
       "0   -0.476731\n",
       "1    0.476731\n",
       "2   -0.476731\n",
       "3    1.430194\n",
       "4    0.476731\n",
       "5   -1.430194\n",
       "Name: NroVeh, dtype: float64"
      ]
     },
     "execution_count": 20,
     "metadata": {},
     "output_type": "execute_result"
    }
   ],
   "source": [
    "df[\"NroVeh\"]"
   ]
  },
  {
   "cell_type": "code",
   "execution_count": null,
   "id": "6be10683",
   "metadata": {},
   "outputs": [],
   "source": []
  }
 ],
 "metadata": {
  "kernelspec": {
   "display_name": "Python 3 (ipykernel)",
   "language": "python",
   "name": "python3"
  },
  "language_info": {
   "codemirror_mode": {
    "name": "ipython",
    "version": 3
   },
   "file_extension": ".py",
   "mimetype": "text/x-python",
   "name": "python",
   "nbconvert_exporter": "python",
   "pygments_lexer": "ipython3",
   "version": "3.11.5"
  }
 },
 "nbformat": 4,
 "nbformat_minor": 5
}
