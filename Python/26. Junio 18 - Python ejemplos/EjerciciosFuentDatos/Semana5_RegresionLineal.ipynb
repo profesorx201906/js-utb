{
 "cells": [
  {
   "cell_type": "code",
   "execution_count": 20,
   "id": "d9ea440f",
   "metadata": {},
   "outputs": [
    {
     "data": {
      "text/html": [
       "<div>\n",
       "<style scoped>\n",
       "    .dataframe tbody tr th:only-of-type {\n",
       "        vertical-align: middle;\n",
       "    }\n",
       "\n",
       "    .dataframe tbody tr th {\n",
       "        vertical-align: top;\n",
       "    }\n",
       "\n",
       "    .dataframe thead th {\n",
       "        text-align: right;\n",
       "    }\n",
       "</style>\n",
       "<table border=\"1\" class=\"dataframe\">\n",
       "  <thead>\n",
       "    <tr style=\"text-align: right;\">\n",
       "      <th></th>\n",
       "      <th>equipos</th>\n",
       "      <th>bateos</th>\n",
       "      <th>runs</th>\n",
       "    </tr>\n",
       "  </thead>\n",
       "  <tbody>\n",
       "    <tr>\n",
       "      <th>0</th>\n",
       "      <td>Texas</td>\n",
       "      <td>5659</td>\n",
       "      <td>855</td>\n",
       "    </tr>\n",
       "    <tr>\n",
       "      <th>1</th>\n",
       "      <td>Boston</td>\n",
       "      <td>5710</td>\n",
       "      <td>875</td>\n",
       "    </tr>\n",
       "    <tr>\n",
       "      <th>2</th>\n",
       "      <td>Detroit</td>\n",
       "      <td>5563</td>\n",
       "      <td>787</td>\n",
       "    </tr>\n",
       "  </tbody>\n",
       "</table>\n",
       "</div>"
      ],
      "text/plain": [
       "   equipos  bateos  runs\n",
       "0    Texas    5659   855\n",
       "1   Boston    5710   875\n",
       "2  Detroit    5563   787"
      ]
     },
     "execution_count": 20,
     "metadata": {},
     "output_type": "execute_result"
    }
   ],
   "source": [
    "# Tratamiento de datos\n",
    "# ==============================================================================\n",
    "import pandas as pd\n",
    "\n",
    "# Gráficos\n",
    "# ==============================================================================\n",
    "import matplotlib.pyplot as plt\n",
    "\n",
    "\n",
    "# Configuración matplotlib\n",
    "# ==============================================================================\n",
    "plt.style.use('ggplot')\n",
    "\n",
    "# Configuración warnings\n",
    "# ==============================================================================\n",
    "import warnings\n",
    "warnings.filterwarnings('once')\n",
    "# Datos\n",
    "# ==============================================================================\n",
    "equipos = [\"Texas\",\"Boston\",\"Detroit\",\"Kansas\",\"St.\",\"New_S.\",\"New_Y.\",\n",
    "           \"Milwaukee\",\"Colorado\",\"Houston\",\"Baltimore\",\"Los_An.\",\"Chicago\",\n",
    "           \"Cincinnati\",\"Los_P.\",\"Philadelphia\",\"Chicago\",\"Cleveland\",\"Arizona\",\n",
    "           \"Toronto\",\"Minnesota\",\"Florida\",\"Pittsburgh\",\"Oakland\",\"Tampa\",\n",
    "           \"Atlanta\",\"Washington\",\"San.F\",\"San.I\",\"Seattle\"]\n",
    "bateos = [5659,  5710, 5563, 5672, 5532, 5600, 5518, 5447, 5544, 5598,\n",
    "          5585, 5436, 5549, 5612, 5513, 5579, 5502, 5509, 5421, 5559,\n",
    "          5487, 5508, 5421, 5452, 5436, 5528, 5441, 5486, 5417, 5421]\n",
    "\n",
    "runs = [855, 875, 787, 730, 762, 718, 867, 721, 735, 615, 708, 644, 654, 735,\n",
    "        667, 713, 654, 704, 731, 743, 619, 625, 610, 645, 707, 641, 624, 570,\n",
    "        593, 556]\n",
    "\n",
    "datos = pd.DataFrame({'equipos': equipos, 'bateos': bateos, 'runs': runs})\n",
    "datos.head(3)"
   ]
  },
  {
   "cell_type": "code",
   "execution_count": 21,
   "id": "f0e6dae4",
   "metadata": {},
   "outputs": [
    {
     "data": {
      "image/png": "[encoded data removed]",
      "text/plain": [
       "<Figure size 600x384 with 1 Axes>"
      ]
     },
     "metadata": {},
     "output_type": "display_data"
    }
   ],
   "source": [
    "# Gráfico\n",
    "# ==============================================================================\n",
    "fig, ax = plt.subplots(figsize=(6, 3.84))\n",
    "\n",
    "datos.plot(\n",
    "    x    = 'bateos',\n",
    "    y    = 'runs',\n",
    "    c    = 'firebrick',\n",
    "    kind = \"scatter\",\n",
    "    ax   = ax\n",
    ")\n",
    "ax.set_title('Distribución de bateos y runs');"
   ]
  },
  {
   "cell_type": "code",
   "execution_count": 22,
   "id": "ae7fde1c",
   "metadata": {},
   "outputs": [
    {
     "name": "stdout",
     "output_type": "stream",
     "text": [
      "Coeficiente de correlación de Pearson: 0.6106270467206687\n",
      "P-value: 0.0003388351359791978\n"
     ]
    }
   ],
   "source": [
    "# Correlación lineal entre las dos variables\n",
    "# ==============================================================================\n",
    "corr_test = pearsonr(x = datos['bateos'], y =  datos['runs'])\n",
    "print(f\"Coeficiente de correlación de Pearson: {corr_test[0]}\")\n",
    "print(f\"P-value: {corr_test[1]}\")"
   ]
  },
  {
   "cell_type": "code",
   "execution_count": 23,
   "id": "bbdbeb94",
   "metadata": {},
   "outputs": [
    {
     "name": "stdout",
     "output_type": "stream",
     "text": [
      "Intercept: -2367.702841302211\n",
      "Coeficiente: [('bateos', 0.5528713534479736)]\n",
      "Coeficiente de determinación R^2: 0.3586119899498744\n"
     ]
    }
   ],
   "source": [
    "# División de los datos en train y test\n",
    "# ==============================================================================\n",
    "X = datos[['bateos']]\n",
    "y = datos['runs']\n",
    "\n",
    "X_train, X_test, y_train, y_test = train_test_split(\n",
    "                                        X,\n",
    "                                        y,\n",
    "                                        train_size   = 0.8,\n",
    "                                        random_state = 1234,\n",
    "                                        shuffle      = True\n",
    "                                    )\n",
    "\n",
    "# Creación del modelo\n",
    "# ==============================================================================\n",
    "modelo = LinearRegression()\n",
    "modelo.fit(X = X_train, y = y_train)\n",
    "# Información del modelo\n",
    "# ==============================================================================\n",
    "print(f\"Intercept: {modelo.intercept_}\")\n",
    "print(f\"Coeficiente: {list(zip(modelo.feature_names_in_, modelo.coef_))}\")\n",
    "print(f\"Coeficiente de determinación R^2:\", modelo.score(X, y))"
   ]
  },
  {
   "cell_type": "code",
   "execution_count": 19,
   "id": "c0769b93",
   "metadata": {},
   "outputs": [
    {
     "name": "stdout",
     "output_type": "stream",
     "text": [
      "Intercept: -2367.702841302211\n",
      "Coeficiente: [('bateos', 0.5528713534479736)]\n",
      "Coeficiente de determinación R^2: 0.3586119899498744\n"
     ]
    }
   ],
   "source": []
  },
  {
   "cell_type": "code",
   "execution_count": null,
   "id": "445c7a80",
   "metadata": {},
   "outputs": [],
   "source": []
  }
 ],
 "metadata": {
  "kernelspec": {
   "display_name": "Python 3 (ipykernel)",
   "language": "python",
   "name": "python3"
  },
  "language_info": {
   "codemirror_mode": {
    "name": "ipython",
    "version": 3
   },
   "file_extension": ".py",
   "mimetype": "text/x-python",
   "name": "python",
   "nbconvert_exporter": "python",
   "pygments_lexer": "ipython3",
   "version": "3.11.5"
  }
 },
 "nbformat": 4,
 "nbformat_minor": 5
}
